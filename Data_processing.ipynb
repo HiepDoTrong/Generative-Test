{
 "cells": [
  {
   "cell_type": "code",
   "execution_count": 1,
   "metadata": {},
   "outputs": [
    {
     "name": "stderr",
     "output_type": "stream",
     "text": [
      "c:\\Users\\ADMIN\\AppData\\Local\\Programs\\Python\\Python39\\lib\\site-packages\\tqdm\\auto.py:22: TqdmWarning: IProgress not found. Please update jupyter and ipywidgets. See https://ipywidgets.readthedocs.io/en/stable/user_install.html\n",
      "  from .autonotebook import tqdm as notebook_tqdm\n"
     ]
    }
   ],
   "source": [
    "\n",
    "import torchvision.transforms.functional as F\n",
    "from torchvision import transforms\n",
    "import torch\n",
    "import torch.nn as nn\n",
    "import matplotlib.pyplot as plt\n",
    "from PIL import Image\n"
   ]
  },
  {
   "cell_type": "code",
   "execution_count": null,
   "metadata": {},
   "outputs": [],
   "source": [
    "obj = \"Khanhdan\"\n",
    "iter_obj = iter(obj)\n",
    "for i in obj:\n",
    "    print(next(iter_obj))"
   ]
  },
  {
   "cell_type": "code",
   "execution_count": null,
   "metadata": {},
   "outputs": [],
   "source": [
    "from CustomDataset import Face_Data\n",
    "import matplotlib.pyplot as plt\n",
    "transforms = transforms.Compose([\n",
    "    transforms.ToTensor(),\n",
    "    transforms.Normalize((0.5, 0.5, 0.5), (0.5, 0.5, 0.5))\n",
    "])\n",
    "\n",
    "dir = \"D:/Coding/Gen-team-test-model/Mydata\"\n",
    "real = Face_Data(root= dir, transform=transforms)"
   ]
  },
  {
   "cell_type": "code",
   "execution_count": null,
   "metadata": {},
   "outputs": [],
   "source": [
    "dataloader = torch.utils.data.DataLoader(real, batch_size=5, shuffle=True, pin_memory=True)\n",
    "dataloader[0]"
   ]
  },
  {
   "cell_type": "code",
   "execution_count": 2,
   "metadata": {},
   "outputs": [
    {
     "ename": "TypeError",
     "evalue": "can only concatenate str (not \"int\") to str",
     "output_type": "error",
     "traceback": [
      "\u001b[1;31m---------------------------------------------------------------------------\u001b[0m",
      "\u001b[1;31mTypeError\u001b[0m                                 Traceback (most recent call last)",
      "Cell \u001b[1;32mIn [2], line 21\u001b[0m\n\u001b[0;32m     14\u001b[0m dataset \u001b[39m=\u001b[39m transforms(c)\n\u001b[0;32m     17\u001b[0m \u001b[39mfor\u001b[39;00m i \u001b[39min\u001b[39;00m real:    \n\u001b[0;32m     18\u001b[0m     \u001b[39m# a = Img.open(real[i+1])\u001b[39;00m\n\u001b[0;32m     19\u001b[0m     \u001b[39m# b = transforms(a)\u001b[39;00m\n\u001b[0;32m     20\u001b[0m     \u001b[39m# torch.stack((dataset, b), dim=0)\u001b[39;00m\n\u001b[1;32m---> 21\u001b[0m     \u001b[39mprint\u001b[39m(real[i\u001b[39m+\u001b[39;49m\u001b[39m1\u001b[39;49m])\n",
      "\u001b[1;31mTypeError\u001b[0m: can only concatenate str (not \"int\") to str"
     ]
    }
   ],
   "source": [
    "import glob\n",
    "import PIL.Image as Img\n",
    "import numpy as np\n",
    "from torchvision import  transforms\n",
    "dir = \"D:\\Coding\\Gen-team-test-model\\Mydata\"\n",
    "real = sorted(glob.glob(dir + \"\\*\"))\n",
    "# numpydata = np.array(real)\n",
    "transforms = transforms.Compose([\n",
    "    transforms.ToTensor(),\n",
    "    transforms.Normalize((0.5, 0.5, 0.5), (0.5, 0.5, 0.5))\n",
    "])\n",
    "\n",
    "c = Img.open(real[0])\n",
    "dataset = transforms(c)\n",
    "\n",
    "\n",
    "for i in real:    \n",
    "    # a = Img.open(real[i+1])\n",
    "    # b = transforms(a)\n",
    "    # torch.stack((dataset, b), dim=0)\n",
    "    print(real[i+1])\n"
   ]
  },
  {
   "cell_type": "code",
   "execution_count": null,
   "metadata": {},
   "outputs": [],
   "source": [
    "type(real[3])"
   ]
  },
  {
   "cell_type": "code",
   "execution_count": null,
   "metadata": {},
   "outputs": [],
   "source": [
    "dataset.shape"
   ]
  },
  {
   "cell_type": "code",
   "execution_count": null,
   "metadata": {},
   "outputs": [],
   "source": [
    "real[0]"
   ]
  },
  {
   "cell_type": "code",
   "execution_count": null,
   "metadata": {},
   "outputs": [],
   "source": [
    "dataloader = torch.utils.data.DataLoader(datasets, batch_size=5, shuffle=True, pin_memory=True)"
   ]
  },
  {
   "cell_type": "code",
   "execution_count": null,
   "metadata": {},
   "outputs": [],
   "source": [
    "dataloader.size"
   ]
  },
  {
   "cell_type": "code",
   "execution_count": null,
   "metadata": {},
   "outputs": [],
   "source": [
    "import torchvision.datasets as datasets\n",
    "from torchvision import transforms\n",
    "transforms = transforms.Compose(\n",
    "    [\n",
    "        transforms.ToTensor(),\n",
    "    ]\n",
    ")\n",
    "\n",
    "dataset = datasets.MNIST(root=\"dataset/\", transform=transforms, download=True)\n"
   ]
  },
  {
   "cell_type": "code",
   "execution_count": null,
   "metadata": {},
   "outputs": [],
   "source": [
    "dataset[5]"
   ]
  },
  {
   "cell_type": "code",
   "execution_count": null,
   "metadata": {},
   "outputs": [],
   "source": [
    "noise = torch.rand(5000,3, 512, 512)\n",
    "dataloader_fake = torch.utils.data.DataLoader(noise, batch_size=32, shuffle=False, pin_memory=True)"
   ]
  },
  {
   "cell_type": "code",
   "execution_count": null,
   "metadata": {},
   "outputs": [],
   "source": [
    "len(dataloader_fake)u "
   ]
  },
  {
   "cell_type": "code",
   "execution_count": null,
   "metadata": {},
   "outputs": [],
   "source": [
    "import os\n",
    "import shutil\n",
    "import tempfile\n",
    "from contextlib import contextmanager\n",
    "from typing import Any, Dict, Iterator, List, Optional, Tuple\n",
    "\n",
    "import torch\n",
    "\n",
    "from .folder import ImageFolder\n",
    "from .utils import check_integrity, extract_archive, verify_str_arg\n",
    "\n",
    "class ImageNet(ImageFolder):\n",
    "\n",
    "    def __init__(self, root: str, split: str = \"train\", **kwargs: Any) -> None:\n",
    "        root = self.root = os.path.expanduser(root)\n",
    "        self.split = verify_str_arg(split, \"split\", (\"train\", \"val\"))\n",
    "\n",
    "        self.parse_archives()\n",
    "        wnid_to_classes = load_meta_file(self.root)[0]\n",
    "\n",
    "        super().__init__(self.split_folder, **kwargs)\n",
    "        self.root = root\n",
    "\n",
    "        self.wnids = self.classes\n",
    "        self.wnid_to_idx = self.class_to_idx\n",
    "        self.classes = [wnid_to_classes[wnid] for wnid in self.wnids]\n",
    "        self.class_to_idx = {cls: idx for idx, clss in enumerate(self.classes) for cls in clss}\n",
    "\n",
    "    def parse_archives(self) -> None:\n",
    "        if not check_integrity(os.path.join(self.root, META_FILE)):\n",
    "            parse_devkit_archive(self.root)\n",
    "\n",
    "        if not os.path.isdir(self.split_folder):\n",
    "            if self.split == \"train\":\n",
    "                parse_train_archive(self.root)\n",
    "            elif self.split == \"val\":\n",
    "                parse_val_archive(self.root)\n",
    "\n",
    "    @property\n",
    "    def split_folder(self) -> str:\n",
    "        return os.path.join(self.root, self.split)\n",
    "\n",
    "    def extra_repr(self) -> str:\n",
    "        return \"Split: {split}\".format(**self.__dict__)\n",
    "\n",
    "\n",
    "\n",
    "def load_meta_file(root: str, file: Optional[str] = None) -> Tuple[Dict[str, str], List[str]]:\n",
    "    if file is None:\n",
    "        file = META_FILE\n",
    "    file = os.path.join(root, file)\n",
    "\n",
    "    if check_integrity(file):\n",
    "        return torch.load(file)\n",
    "    else:\n",
    "        msg = (\n",
    "            \"The meta file {} is not present in the root directory or is corrupted. \"\n",
    "            \"This file is automatically created by the ImageNet dataset.\"\n",
    "        )\n",
    "        raise RuntimeError(msg.format(file, root))\n",
    "\n",
    "\n",
    "def _verify_archive(root: str, file: str, md5: str) -> None:\n",
    "    if not check_integrity(os.path.join(root, file), md5):\n",
    "        msg = (\n",
    "            \"The archive {} is not present in the root directory or is corrupted. \"\n",
    "            \"You need to download it externally and place it in {}.\"\n",
    "        )\n",
    "        raise RuntimeError(msg.format(file, root))\n",
    "\n",
    "\n",
    "def parse_devkit_archive(root: str, file: Optional[str] = None) -> None:\n",
    "    \"\"\"Parse the devkit archive of the ImageNet2012 classification dataset and save\n",
    "    the meta information in a binary file.\n",
    "\n",
    "    Args:\n",
    "        root (str): Root directory containing the devkit archive\n",
    "        file (str, optional): Name of devkit archive. Defaults to\n",
    "            'ILSVRC2012_devkit_t12.tar.gz'\n",
    "    \"\"\"\n",
    "    import scipy.io as sio\n",
    "\n",
    "    def parse_meta_mat(devkit_root: str) -> Tuple[Dict[int, str], Dict[str, Tuple[str, ...]]]:\n",
    "        metafile = os.path.join(devkit_root, \"data\", \"meta.mat\")\n",
    "        meta = sio.loadmat(metafile, squeeze_me=True)[\"synsets\"]\n",
    "        nums_children = list(zip(*meta))[4]\n",
    "        meta = [meta[idx] for idx, num_children in enumerate(nums_children) if num_children == 0]\n",
    "        idcs, wnids, classes = list(zip(*meta))[:3]\n",
    "        classes = [tuple(clss.split(\", \")) for clss in classes]\n",
    "        idx_to_wnid = {idx: wnid for idx, wnid in zip(idcs, wnids)}\n",
    "        wnid_to_classes = {wnid: clss for wnid, clss in zip(wnids, classes)}\n",
    "        return idx_to_wnid, wnid_to_classes\n",
    "\n",
    "    def parse_val_groundtruth_txt(devkit_root: str) -> List[int]:\n",
    "        file = os.path.join(devkit_root, \"data\", \"ILSVRC2012_validation_ground_truth.txt\")\n",
    "        with open(file) as txtfh:\n",
    "            val_idcs = txtfh.readlines()\n",
    "        return [int(val_idx) for val_idx in val_idcs]\n",
    "\n",
    "    @contextmanager\n",
    "    def get_tmp_dir() -> Iterator[str]:\n",
    "        tmp_dir = tempfile.mkdtemp()\n",
    "        try:\n",
    "            yield tmp_dir\n",
    "        finally:\n",
    "            shutil.rmtree(tmp_dir)\n",
    "\n",
    "    archive_meta = ARCHIVE_META[\"devkit\"]\n",
    "    if file is None:\n",
    "        file = archive_meta[0]\n",
    "    md5 = archive_meta[1]\n",
    "\n",
    "    _verify_archive(root, file, md5)\n",
    "\n",
    "    with get_tmp_dir() as tmp_dir:\n",
    "        extract_archive(os.path.join(root, file), tmp_dir)\n",
    "\n",
    "        devkit_root = os.path.join(tmp_dir, \"ILSVRC2012_devkit_t12\")\n",
    "        idx_to_wnid, wnid_to_classes = parse_meta_mat(devkit_root)\n",
    "        val_idcs = parse_val_groundtruth_txt(devkit_root)\n",
    "        val_wnids = [idx_to_wnid[idx] for idx in val_idcs]\n",
    "\n",
    "        torch.save((wnid_to_classes, val_wnids), os.path.join(root, META_FILE))\n",
    "\n",
    "\n",
    "def parse_train_archive(root: str, file: Optional[str] = None, folder: str = \"train\") -> None:\n",
    "    \"\"\"Parse the train images archive of the ImageNet2012 classification dataset and\n",
    "    prepare it for usage with the ImageNet dataset.\n",
    "\n",
    "    Args:\n",
    "        root (str): Root directory containing the train images archive\n",
    "        file (str, optional): Name of train images archive. Defaults to\n",
    "            'ILSVRC2012_img_train.tar'\n",
    "        folder (str, optional): Optional name for train images folder. Defaults to\n",
    "            'train'\n",
    "    \"\"\"\n",
    "    archive_meta = ARCHIVE_META[\"train\"]\n",
    "    if file is None:\n",
    "        file = archive_meta[0]\n",
    "    md5 = archive_meta[1]\n",
    "\n",
    "    _verify_archive(root, file, md5)\n",
    "\n",
    "    train_root = os.path.join(root, folder)\n",
    "    extract_archive(os.path.join(root, file), train_root)\n",
    "\n",
    "    archives = [os.path.join(train_root, archive) for archive in os.listdir(train_root)]\n",
    "    for archive in archives:\n",
    "        extract_archive(archive, os.path.splitext(archive)[0], remove_finished=True)\n",
    "\n",
    "\n",
    "def parse_val_archive(\n",
    "    root: str, file: Optional[str] = None, wnids: Optional[List[str]] = None, folder: str = \"val\"\n",
    ") -> None:\n",
    "    \"\"\"Parse the validation images archive of the ImageNet2012 classification dataset\n",
    "    and prepare it for usage with the ImageNet dataset.\n",
    "\n",
    "    Args:\n",
    "        root (str): Root directory containing the validation images archive\n",
    "        file (str, optional): Name of validation images archive. Defaults to\n",
    "            'ILSVRC2012_img_val.tar'\n",
    "        wnids (list, optional): List of WordNet IDs of the validation images. If None\n",
    "            is given, the IDs are loaded from the meta file in the root directory\n",
    "        folder (str, optional): Optional name for validation images folder. Defaults to\n",
    "            'val'\n",
    "    \"\"\"\n",
    "    archive_meta = ARCHIVE_META[\"val\"]\n",
    "    if file is None:\n",
    "        file = archive_meta[0]\n",
    "    md5 = archive_meta[1]\n",
    "    if wnids is None:\n",
    "        wnids = load_meta_file(root)[1]\n",
    "\n",
    "    _verify_archive(root, file, md5)\n",
    "\n",
    "    val_root = os.path.join(root, folder)\n",
    "    extract_archive(os.path.join(root, file), val_root)\n",
    "\n",
    "    images = sorted(os.path.join(val_root, image) for image in os.listdir(val_root))\n",
    "\n",
    "    for wnid in set(wnids):\n",
    "        os.mkdir(os.path.join(val_root, wnid))\n",
    "\n",
    "    for wnid, img_file in zip(wnids, images):\n",
    "        shutil.move(img_file, os.path.join(val_root, wnid, os.path.basename(img_file)))"
   ]
  }
 ],
 "metadata": {
  "kernelspec": {
   "display_name": "Python 3.9.0 64-bit",
   "language": "python",
   "name": "python3"
  },
  "language_info": {
   "codemirror_mode": {
    "name": "ipython",
    "version": 3
   },
   "file_extension": ".py",
   "mimetype": "text/x-python",
   "name": "python",
   "nbconvert_exporter": "python",
   "pygments_lexer": "ipython3",
   "version": "3.9.0"
  },
  "orig_nbformat": 4,
  "vscode": {
   "interpreter": {
    "hash": "c081257499a92776a7ff5343ee4d85420a7950a6ae97b0cb2aee7a7ddd41b7f2"
   }
  }
 },
 "nbformat": 4,
 "nbformat_minor": 2
}
