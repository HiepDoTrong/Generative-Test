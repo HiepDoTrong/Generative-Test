{
 "cells": [
  {
   "cell_type": "code",
   "execution_count": null,
   "metadata": {},
   "outputs": [],
   "source": [
    "import csv\n",
    "\n",
    "f=open(\"C:\\\\Users\\\\User\\\\Documents\\\\Works\\\\PAIL\\\\Generative-Test\\\\data.csv\",mode='w',encoding='utf-8')\n",
    "f.close()\n",
    "with open('data.csv', mode='w') as image:\n",
    "    writer = csv.writer(image, delimiter=',', quotechar='\"', quoting=csv.QUOTE_MINIMAL)\n",
    "    writer.writerow([\"Image\"])\n",
    "    for i in range(0, 11):   \n",
    "        if (i >= 0 and i <= 9):\n",
    "            writer.writerow([\"0000\" + f'{i}' + '.png'])        \n",
    "        if (i >= 10 and i <= 99):\n",
    "            writer.writerow([\"000\" + f'{i}' + '.png'])\n",
    "        if (i >= 100 and i <= 999):\n",
    "            writer.writerow([\"00\" + f'{i}' + '.png'])\n",
    "        if (i >= 1000 and i <= 9999):\n",
    "            writer.writerow([\"0\" + f'{i}' + '.png'])"
   ]
  },
  {
   "cell_type": "code",
   "execution_count": null,
   "metadata": {},
   "outputs": [],
   "source": [
    "from CustomDataset import Custom\n",
    "from torchvision import transforms\n",
    "\n",
    "transform = transforms.Compose([\n",
    "    transforms.ToTensor(),\n",
    "    transforms.Normalize(0.5, 0.5, 0.5)\n",
    "])\n",
    "\n",
    "dir = \"C:\\\\Users\\\\User\\\\Documents\\\\Works\\\\PAIL\\\\Generative-Test\\\\Data_checktest\"\n",
    "csv = \"C:\\\\Users\\\\User\\\\Documents\\\\Works\\\\PAIL\\\\Generative-Test\\\\data.csv\"\n",
    "dataset = Custom(csv_file= csv, root= dir, transforms= transform)"
   ]
  },
  {
   "cell_type": "code",
   "execution_count": null,
   "metadata": {},
   "outputs": [],
   "source": [
    "import torch\n",
    "dataloader = torch.utils.data.DataLoader(dataset, batch_size=32, shuffle=True, pin_memory=True)\n"
   ]
  },
  {
   "cell_type": "code",
   "execution_count": null,
   "metadata": {},
   "outputs": [],
   "source": [
    "len(dataset)"
   ]
  },
  {
   "cell_type": "code",
   "execution_count": null,
   "metadata": {},
   "outputs": [],
   "source": [
    "dataset[5]"
   ]
  },
  {
   "cell_type": "code",
   "execution_count": null,
   "metadata": {},
   "outputs": [],
   "source": [
    "from torchvision import transforms\n",
    "import torch\n",
    "import torch.nn as nn\n",
    "from PIL import Image\n",
    "\n",
    "img_to_tensor = transforms.ToTensor()\n",
    "tensor_to_img = transforms.ToPILImage()\n",
    "center_crop = transforms.CenterCrop(512)"
   ]
  },
  {
   "cell_type": "code",
   "execution_count": null,
   "metadata": {},
   "outputs": [],
   "source": [
    "anh = e"
   ]
  }
 ],
 "metadata": {
  "kernelspec": {
   "display_name": "Python 3",
   "language": "python",
   "name": "python3"
  },
  "language_info": {
   "codemirror_mode": {
    "name": "ipython",
    "version": 3
   },
   "file_extension": ".py",
   "mimetype": "text/x-python",
   "name": "python",
   "nbconvert_exporter": "python",
   "pygments_lexer": "ipython3",
   "version": "3.10.1"
  },
  "orig_nbformat": 4,
  "vscode": {
   "interpreter": {
    "hash": "afb734500600fd355917ca529030176ea0ca205570884b88f2f6f7d791fd3fbe"
   }
  }
 },
 "nbformat": 4,
 "nbformat_minor": 2
}
