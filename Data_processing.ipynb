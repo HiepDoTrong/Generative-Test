{
 "cells": [
  {
   "cell_type": "code",
   "execution_count": null,
   "metadata": {},
   "outputs": [],
   "source": [
    "import csv\n",
    "\n",
    "with open('data.csv', mode='w') as image:\n",
    "    for i in range(0, 5000):\n",
    "        \n",
    "        writer = csv.writer(image, delimiter=',', quotechar='\"', quoting=csv.QUOTE_MINIMAL)\n",
    "        if (i >= 0 and i <= 9):\n",
    "            writer.writerow([\"0000\" + f'{i}' + '.png'])        \n",
    "        if (i >= 10 and i <= 99):\n",
    "            writer.writerow([\"000\" + f'{i}' + '.png'])\n",
    "        if (i >= 100 and i <= 999):\n",
    "            writer.writerow([\"00\" + f'{i}' + '.png'])\n",
    "        if (i >= 1000 and i <= 9999):\n",
    "            writer.writerow([\"0\" + f'{i}' + '.png'])"
   ]
  },
  {
   "cell_type": "code",
   "execution_count": 16,
   "metadata": {},
   "outputs": [],
   "source": [
    "from CustomDataset import Custom\n",
    "from torchvision import transforms\n",
    "\n",
    "transform = transforms.Compose([\n",
    "    transforms.ToTensor(),\n",
    "    transforms.Normalize(0.5, 0.5, 0.5)\n",
    "])\n",
    "\n",
    "dir = \"D:\\\\Coding\\\\Gen-team-test-model\\\\Mydata\"\n",
    "csv = 'D:\\Coding\\Gen-team-test-model\\data.csv'\n",
    "dataset = Custom(csv_file= csv, root= dir, transforms= transform)"
   ]
  },
  {
   "cell_type": "code",
   "execution_count": 17,
   "metadata": {},
   "outputs": [],
   "source": [
    "import torch\n",
    "dataloader = torch.utils.data.DataLoader(dataset, batch_size=32, shuffle=True, pin_memory=True)\n"
   ]
  },
  {
   "cell_type": "code",
   "execution_count": 20,
   "metadata": {},
   "outputs": [
    {
     "data": {
      "text/plain": [
       "5000"
      ]
     },
     "execution_count": 20,
     "metadata": {},
     "output_type": "execute_result"
    }
   ],
   "source": [
    "len(dataset)"
   ]
  },
  {
   "cell_type": "code",
   "execution_count": 10,
   "metadata": {},
   "outputs": [
    {
     "data": {
      "text/plain": [
       "tensor([[[-0.8196, -0.8275, -0.8588,  ...,  0.6314,  0.6000,  0.5765],\n",
       "         [-0.8745, -0.8824, -0.9059,  ...,  0.6235,  0.5922,  0.5765],\n",
       "         [-0.9137, -0.9294, -0.9451,  ...,  0.6471,  0.5843,  0.5765],\n",
       "         ...,\n",
       "         [ 1.0000,  1.0000,  1.0000,  ...,  1.0000,  0.9922,  0.9922],\n",
       "         [ 0.9922,  0.9922,  0.9922,  ...,  1.0000,  0.9922,  1.0000],\n",
       "         [ 0.9922,  0.9922,  0.9843,  ...,  1.0000,  1.0000,  1.0000]],\n",
       "\n",
       "        [[-0.8118, -0.8196, -0.8510,  ...,  0.5451,  0.5216,  0.5059],\n",
       "         [-0.8667, -0.8745, -0.8980,  ...,  0.5451,  0.5216,  0.5137],\n",
       "         [-0.9059, -0.9216, -0.9373,  ...,  0.5765,  0.5137,  0.5137],\n",
       "         ...,\n",
       "         [-0.0824, -0.0824, -0.0902,  ..., -0.0118, -0.0196, -0.0196],\n",
       "         [-0.0902, -0.0902, -0.0980,  ..., -0.0275, -0.0275, -0.0118],\n",
       "         [-0.1059, -0.1059, -0.1059,  ..., -0.0196, -0.0118, -0.0118]],\n",
       "\n",
       "        [[-0.8431, -0.8510, -0.8902,  ...,  0.4275,  0.3961,  0.3725],\n",
       "         [-0.9059, -0.9137, -0.9373,  ...,  0.4353,  0.3961,  0.3725],\n",
       "         [-0.9451, -0.9608, -0.9765,  ...,  0.4510,  0.3804,  0.3725],\n",
       "         ...,\n",
       "         [-0.5922, -0.5922, -0.6000,  ..., -0.5686, -0.5529, -0.5373],\n",
       "         [-0.6000, -0.6078, -0.6078,  ..., -0.5686, -0.5608, -0.5451],\n",
       "         [-0.6078, -0.6078, -0.6157,  ..., -0.5608, -0.5529, -0.5451]]])"
      ]
     },
     "execution_count": 10,
     "metadata": {},
     "output_type": "execute_result"
    }
   ],
   "source": [
    "dataset[5]"
   ]
  },
  {
   "cell_type": "code",
   "execution_count": null,
   "metadata": {},
   "outputs": [],
   "source": [
    "import pandas as pd\n",
    "pd.read_csv('data.csv')"
   ]
  }
 ],
 "metadata": {
  "kernelspec": {
   "display_name": "Python 3.9.0 64-bit",
   "language": "python",
   "name": "python3"
  },
  "language_info": {
   "codemirror_mode": {
    "name": "ipython",
    "version": 3
   },
   "file_extension": ".py",
   "mimetype": "text/x-python",
   "name": "python",
   "nbconvert_exporter": "python",
   "pygments_lexer": "ipython3",
   "version": "3.9.0"
  },
  "orig_nbformat": 4,
  "vscode": {
   "interpreter": {
    "hash": "c081257499a92776a7ff5343ee4d85420a7950a6ae97b0cb2aee7a7ddd41b7f2"
   }
  }
 },
 "nbformat": 4,
 "nbformat_minor": 2
}
